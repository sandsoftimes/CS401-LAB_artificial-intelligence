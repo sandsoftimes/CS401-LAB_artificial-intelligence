{
 "cells": [
  {
   "cell_type": "markdown",
   "id": "1fcdd013",
   "metadata": {},
   "source": [
    "# Muhammad Sherjeel Akhtar\n",
    "# 20p-0101\n",
    "# BCS-6C\n",
    "# Lab-Task-10"
   ]
  },
  {
   "cell_type": "markdown",
   "id": "c9da089b",
   "metadata": {},
   "source": [
    "# Graph representation of Romania map"
   ]
  },
  {
   "cell_type": "code",
   "execution_count": 11,
   "id": "685f5adc",
   "metadata": {},
   "outputs": [],
   "source": [
    "import heapq\n",
    "romania_map = {\n",
    "    'Arad': [('Zerind', 75), ('Sibiu', 140), ('Timisoara', 118)],\n",
    "    'Zerind': [('Oradea', 71), ('Arad', 75)],\n",
    "    'Oradea': [('Zerind', 71), ('Sibiu', 151)],\n",
    "    'Sibiu': [('Arad', 140), ('Oradea', 151), ('Fagaras', 99), ('Rimnicu Vilcea', 80)],\n",
    "    'Timisoara': [('Arad', 118), ('Lugoj', 111)],\n",
    "    'Lugoj': [('Timisoara', 111), ('Mehadia', 70)],\n",
    "    'Mehadia': [('Lugoj', 70), ('Drobeta', 75)],\n",
    "    'Drobeta': [('Mehadia', 75), ('Craiova', 120)],\n",
    "    'Craiova': [('Drobeta', 120), ('Rimnicu Vilcea', 146), ('Pitesti', 138)],\n",
    "    'Rimnicu Vilcea': [('Sibiu', 80), ('Pitesti', 97), ('Craiova', 146)],\n",
    "    'Fagaras': [('Sibiu', 99), ('Bucharest', 211)],\n",
    "    'Pitesti': [('Rimnicu Vilcea', 97), ('Craiova', 138), ('Bucharest', 101)],\n",
    "    'Bucharest': [('Fagaras', 211), ('Pitesti', 101)]\n",
    "}"
   ]
  },
  {
   "cell_type": "markdown",
   "id": "11577418",
   "metadata": {},
   "source": [
    "# Heuristic lookup table (straight-line distances from each city to Bucharest)"
   ]
  },
  {
   "cell_type": "code",
   "execution_count": 12,
   "id": "d41715d7",
   "metadata": {},
   "outputs": [],
   "source": [
    "heuristic_table = {\n",
    "    'Arad': 366,\n",
    "    'Zerind': 374,\n",
    "    'Oradea': 380,\n",
    "    'Sibiu': 253,\n",
    "    'Timisoara': 329,\n",
    "    'Lugoj': 244,\n",
    "    'Mehadia': 241,\n",
    "    'Drobeta': 242,\n",
    "    'Craiova': 160,\n",
    "    'Rimnicu Vilcea': 193,\n",
    "    'Fagaras': 176,\n",
    "    'Pitesti': 100,\n",
    "    'Bucharest': 0\n",
    "}"
   ]
  },
  {
   "cell_type": "code",
   "execution_count": 13,
   "id": "687f7c9b",
   "metadata": {},
   "outputs": [],
   "source": [
    "def best_first_search(start_city, destination_city):\n",
    "    priority_queue = [(heuristic_table[start_city], start_city)]\n",
    "    visited = set()\n",
    "\n",
    "    while priority_queue:\n",
    "        _, current_city = heapq.heappop(priority_queue)\n",
    "\n",
    "        if current_city == destination_city:\n",
    "            return heuristic_table[current_city]\n",
    "\n",
    "        visited.add(current_city)\n",
    "\n",
    "        for neighbor, distance in romania_map[current_city]:\n",
    "            if neighbor not in visited:\n",
    "                heuristic_value = heuristic_table[neighbor]\n",
    "                heapq.heappush(priority_queue, (heuristic_value, neighbor))\n",
    "\n",
    "    return float('inf')  "
   ]
  },
  {
   "cell_type": "markdown",
   "id": "869686f2",
   "metadata": {},
   "source": [
    "# Example usage"
   ]
  },
  {
   "cell_type": "code",
   "execution_count": 14,
   "id": "e796e500",
   "metadata": {},
   "outputs": [
    {
     "name": "stdout",
     "output_type": "stream",
     "text": [
      "The shortest distance from Arad to Bucharest is: 0 km\n"
     ]
    }
   ],
   "source": [
    "start_city = 'Arad'\n",
    "destination_city = 'Bucharest'\n",
    "distance = best_first_search(start_city, destination_city)\n",
    "\n",
    "print(f\"The shortest distance from {start_city} to {destination_city} is: {distance} km\")\n"
   ]
  }
 ],
 "metadata": {
  "kernelspec": {
   "display_name": "Python 3",
   "language": "python",
   "name": "python3"
  },
  "language_info": {
   "codemirror_mode": {
    "name": "ipython",
    "version": 3
   },
   "file_extension": ".py",
   "mimetype": "text/x-python",
   "name": "python",
   "nbconvert_exporter": "python",
   "pygments_lexer": "ipython3",
   "version": "3.8.10"
  }
 },
 "nbformat": 4,
 "nbformat_minor": 5
}
