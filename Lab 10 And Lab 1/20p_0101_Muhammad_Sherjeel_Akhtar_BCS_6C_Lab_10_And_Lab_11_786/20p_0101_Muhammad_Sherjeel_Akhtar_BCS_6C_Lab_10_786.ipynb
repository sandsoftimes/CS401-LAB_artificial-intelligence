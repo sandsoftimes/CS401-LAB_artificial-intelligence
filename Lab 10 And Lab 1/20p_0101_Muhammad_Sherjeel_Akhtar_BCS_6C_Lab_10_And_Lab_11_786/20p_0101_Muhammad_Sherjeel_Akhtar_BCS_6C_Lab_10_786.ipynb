{
 "cells": [
  {
   "cell_type": "markdown",
   "id": "33382731",
   "metadata": {},
   "source": [
    "# ----------------------------------------------------------------------------------------------------786\n",
    "# Name: Muhammad Sherjeel Akhtar\n",
    "# Roll No: 20p-0101\n",
    "# Lab Task: 10\n",
    "# Subject: Artificial Intelligence Lab\n",
    "# Section: BCS-6C\n",
    "# Submitted To Respected Ma'am: Miss Hurmat Hidayat\n",
    "# -------------------------------------------------------------------------------------------------------------"
   ]
  },
  {
   "cell_type": "markdown",
   "id": "b3f63cce",
   "metadata": {},
   "source": [
    "# Importing Library"
   ]
  },
  {
   "cell_type": "code",
   "execution_count": 15,
   "id": "be1c2e3a",
   "metadata": {},
   "outputs": [],
   "source": [
    "import heapq"
   ]
  },
  {
   "cell_type": "markdown",
   "id": "7add4b63",
   "metadata": {},
   "source": [
    "# Creating A Heuristic Function To Calculate Straight-Line Distance Between Two Cities"
   ]
  },
  {
   "cell_type": "code",
   "execution_count": 16,
   "id": "22d7700b",
   "metadata": {},
   "outputs": [],
   "source": [
    "def heuristic(city, destination):\n",
    "    return 0"
   ]
  },
  {
   "cell_type": "markdown",
   "id": "16ee25d7",
   "metadata": {},
   "source": [
    "# Creating Best_First_Search Function Acquiring Three Parameters:\n",
    "#### Graph\n",
    "#### Start State\n",
    "#### Goal State\n"
   ]
  },
  {
   "cell_type": "code",
   "execution_count": 17,
   "id": "fe7caa9f",
   "metadata": {},
   "outputs": [],
   "source": [
    "def best_first_search(graph, start, goal):\n",
    "    queue = [(heuristic(start, goal), start)]\n",
    "    visited = set()\n",
    "    while queue:\n",
    "        _, current_city = heapq.heappop(queue)\n",
    "        if current_city == goal:\n",
    "            return graph[current_city]\n",
    "        visited.add(current_city)\n",
    "\n",
    "        for neighbor, distance in graph[current_city]:\n",
    "            neighbor_city = neighbor  \n",
    "            if neighbor_city not in visited:\n",
    "                h = heuristic(neighbor_city, goal)\n",
    "                heapq.heappush(queue, (h, neighbor_city))\n",
    "    return None\n"
   ]
  },
  {
   "cell_type": "markdown",
   "id": "1a69b1ff",
   "metadata": {},
   "source": [
    "# Representation Of Graph Given In Lab Manual In A Dictionary (Adjancency List)"
   ]
  },
  {
   "cell_type": "code",
   "execution_count": 18,
   "id": "fe8ef981",
   "metadata": {},
   "outputs": [],
   "source": [
    "graph = {\n",
    "    'Arad': [('Sibiu', 140), ('Timisoara', 118), ('Zerind', 75)],\n",
    "    'Bucharest': [('Fagaras', 211), ('Pitesti', 101)],\n",
    "    'Sibiu': [('Fagaras', 99), ('Rimnicu Vilcea', 80), ('Arad', 140)],\n",
    "    'Timisoara': [('Lugoj', 111), ('Arad', 118)],\n",
    "    'Fagaras': [('Bucharest', 211), ('Sibiu', 99)],\n",
    "    'Pitesti': [('Bucharest', 101)],\n",
    "    'Rimnicu Vilcea': [('Sibiu', 80), ('Pitesti', 97)],\n",
    "    'Lugoj': [('Timisoara', 111)],\n",
    "    'Giurgiu': [('Bucharest', 90)],\n",
    "    'Zerind': [('Arad', 75), ('Oradea', 71)],\n",
    "    'Oradea': [('Zerind', 71), ('Sibiu', 151)],\n",
    "    'Craiova': [('Drobeta', 120), ('Rimnicu Vilcea', 146), ('Pitesti', 138)],\n",
    "    'Drobeta': [('Craiova', 120), ('Mehadia', 75)],\n",
    "    'Mehadia': [('Drobeta', 75), ('Lugoj', 70)],\n",
    "    'Urziceni': [('Bucharest', 85), ('Hirsova', 98), ('Vaslui', 142)],\n",
    "    'Hirsova': [('Urziceni', 98), ('Eforie', 86)],\n",
    "    'Eforie': [('Hirsova', 86)],\n",
    "    'Vaslui': [('Urziceni', 142), ('Iasi', 92)],\n",
    "    'Iasi': [('Vaslui', 92), ('Neamt', 87)],\n",
    "    'Neamt': [('Iasi', 87)]\n",
    "}"
   ]
  },
  {
   "cell_type": "markdown",
   "id": "255e8a11",
   "metadata": {},
   "source": [
    "# Setting Start And End States By Setting The Cities In Both Variables"
   ]
  },
  {
   "cell_type": "code",
   "execution_count": 19,
   "id": "d84b3fb6",
   "metadata": {},
   "outputs": [],
   "source": [
    "start_city = 'Giurgiu'\n",
    "goal_city = 'Sibiu'"
   ]
  },
  {
   "cell_type": "markdown",
   "id": "b95f1eca",
   "metadata": {},
   "source": [
    "# Calling The best_first_search Algorithm And Storing It In A Distance Variable"
   ]
  },
  {
   "cell_type": "code",
   "execution_count": 20,
   "id": "a5ace7aa",
   "metadata": {},
   "outputs": [],
   "source": [
    "distance = best_first_search(graph, start_city, goal_city)"
   ]
  },
  {
   "cell_type": "markdown",
   "id": "5d93de38",
   "metadata": {},
   "source": [
    "# Visualizing The Results"
   ]
  },
  {
   "cell_type": "code",
   "execution_count": 21,
   "id": "21d31a6e",
   "metadata": {},
   "outputs": [
    {
     "name": "stdout",
     "output_type": "stream",
     "text": [
      "Shortest distance from Giurgiu to Sibiu: [('Fagaras', 99), ('Rimnicu Vilcea', 80), ('Arad', 140)]\n"
     ]
    }
   ],
   "source": [
    "print(f\"Shortest distance from {start_city} to {goal_city}: {distance}\")"
   ]
  },
  {
   "cell_type": "markdown",
   "id": "63e6fdb6",
   "metadata": {},
   "source": [
    "# FIN------"
   ]
  },
  {
   "cell_type": "code",
   "execution_count": null,
   "id": "42049ad3",
   "metadata": {},
   "outputs": [],
   "source": []
  }
 ],
 "metadata": {
  "kernelspec": {
   "display_name": "Python 3",
   "language": "python",
   "name": "python3"
  },
  "language_info": {
   "codemirror_mode": {
    "name": "ipython",
    "version": 3
   },
   "file_extension": ".py",
   "mimetype": "text/x-python",
   "name": "python",
   "nbconvert_exporter": "python",
   "pygments_lexer": "ipython3",
   "version": "3.8.10"
  }
 },
 "nbformat": 4,
 "nbformat_minor": 5
}
