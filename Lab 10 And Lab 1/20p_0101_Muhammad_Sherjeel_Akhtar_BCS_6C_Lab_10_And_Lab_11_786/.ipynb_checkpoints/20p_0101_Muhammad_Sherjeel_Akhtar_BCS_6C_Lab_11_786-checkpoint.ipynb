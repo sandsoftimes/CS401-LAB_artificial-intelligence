{
 "cells": [
  {
   "cell_type": "markdown",
   "id": "909629ed",
   "metadata": {},
   "source": [
    "# ----------------------------------------------------------------------------------------------------786\n",
    "# Name: Muhammad Sherjeel Akhtar\n",
    "# Roll No: 20p-0101\n",
    "# Lab Task: 11\n",
    "# Subject: Artificial Intelligence Lab\n",
    "# Section: BCS-6C\n",
    "# Submitted To Respected Ma'am: Miss Hurmat Hidayat\n",
    "# -------------------------------------------------------------------------------------------------------------\n"
   ]
  },
  {
   "cell_type": "markdown",
   "id": "5703ff7f",
   "metadata": {},
   "source": [
    "# Importing Libraries"
   ]
  },
  {
   "cell_type": "code",
   "execution_count": 10,
   "id": "7247a07b",
   "metadata": {},
   "outputs": [],
   "source": [
    "from queue import PriorityQueue\n",
    "from geopy.distance import geodesic"
   ]
  },
  {
   "cell_type": "markdown",
   "id": "6f4acb39",
   "metadata": {},
   "source": [
    "#  Defining The Latitude And Longitude Of Each City"
   ]
  },
  {
   "cell_type": "code",
   "execution_count": 11,
   "id": "e2ebb184",
   "metadata": {},
   "outputs": [],
   "source": [
    "lat_long = {\n",
    "    'Arad': (46.1667, 21.3167), 'Bucharest': (44.4167, 26.1000),\n",
    "    'Craiova': (44.3333, 23.8167), 'Drobeta': (44.6259, 22.6566),\n",
    "    'Eforie': (44.0667, 28.6333), 'Fagaras': (45.8416, 24.9730),\n",
    "    'Giurgiu': (43.9037, 25.9699), 'Hirsova': (44.6833, 27.9500),\n",
    "    'Iasi': (47.1585, 27.6014), 'Lugoj': (45.6904, 21.9033),\n",
    "    'Neamt': (46.9283, 26.3705), 'Oradea': (47.0553, 21.9214),\n",
    "    'Pitesti': (44.8565, 24.8697), 'Rimnicu Vilcea': (45.1042, 24.3758),\n",
    "    'Sibiu': (45.7977, 24.1521), 'Timisoara': (45.7489, 21.2087),\n",
    "    'Urziceni': (44.7167, 26.6333), 'Vaslui': (46.6333, 27.7333),\n",
    "    'Zerind': (46.6225, 21.5174)\n",
    "}"
   ]
  },
  {
   "cell_type": "markdown",
   "id": "ab382230",
   "metadata": {},
   "source": [
    "# Define The Graph Via Dictionaries"
   ]
  },
  {
   "cell_type": "code",
   "execution_count": 12,
   "id": "5528a969",
   "metadata": {},
   "outputs": [],
   "source": [
    "graph = {\n",
    "    'Arad': {'Zerind': 75, 'Sibiu': 140, 'Timisoara': 118},\n",
    "    'Bucharest': {'Urziceni': 85, 'Pitesti': 101, 'Giurgiu': 90, 'Fagaras': 211},\n",
    "    'Craiova': {'Drobeta': 120, 'Rimnicu Vilcea': 146, 'Pitesti': 138},\n",
    "    'Drobeta': {'Mehadia': 75, 'Craiova': 120},\n",
    "    'Eforie': {'Hirsova': 86},\n",
    "    'Fagaras': {'Sibiu': 99, 'Bucharest': 211},\n",
    "    'Giurgiu': {'Bucharest': 90},\n",
    "    'Hirsova': {'Urziceni': 98, 'Eforie': 86},\n",
    "    'Iasi': {'Neamt': 87, 'Vaslui': 92},\n",
    "    'Lugoj': {'Mehadia': 70, 'Timisoara': 111},\n",
    "    'Neamt': {'Iasi': 87},\n",
    "    'Oradea': {'Zerind': 71, 'Sibiu': 151},\n",
    "    'Pitesti': {'Rimnicu Vilcea': 97, 'Craiova': 138, 'Bucharest': 101},\n",
    "    'Rimnicu Vilcea': {'Sibiu': 80, 'Craiova': 146, 'Pitesti': 97},\n",
    "    'Sibiu': {'Arad': 140, 'Oradea': 151, 'Fagaras': 99, 'Rimnicu Vilcea': 80},\n",
    "    'Timisoara': {'Arad': 118, 'Lugoj': 111},\n",
    "    'Urziceni': {'Bucharest': 85, 'Hirsova': 98, 'Vaslui': 142},\n",
    "    'Vaslui': {'Iasi': 92, 'Urziceni': 142},\n",
    "    'Zerind': {'Arad': 75, 'Oradea': 71}\n",
    "}"
   ]
  },
  {
   "cell_type": "markdown",
   "id": "4cd7074e",
   "metadata": {},
   "source": [
    "# Defining Node Via Class"
   ]
  },
  {
   "cell_type": "code",
   "execution_count": 13,
   "id": "bb31c590",
   "metadata": {},
   "outputs": [],
   "source": [
    "class Node:\n",
    "    def __init__(self, city, parent=None, g_cost=0, h_cost=0):\n",
    "        self.city = city\n",
    "        self.parent = parent\n",
    "        self.g_cost = g_cost\n",
    "        self.h_cost = h_cost\n",
    "        self.f_cost = g_cost + h_cost"
   ]
  },
  {
   "cell_type": "markdown",
   "id": "35f12a59",
   "metadata": {},
   "source": [
    "# Shortest Path Function"
   ]
  },
  {
   "cell_type": "code",
   "execution_count": 14,
   "id": "f5bb6eb0",
   "metadata": {},
   "outputs": [],
   "source": [
    "def find_shortest_path(start_city, goal_city):\n",
    "    open_list = PriorityQueue()\n",
    "    open_list.put((0, Node(start_city)))  \n",
    "    visited = set()\n",
    "\n",
    "    while not open_list.empty():\n",
    "        current_node = open_list.get()[1]  \n",
    "        current_city = current_node.city\n",
    "\n",
    "        if current_city == goal_city:\n",
    "            path = []\n",
    "            distance = current_node.g_cost\n",
    "            while current_node:\n",
    "                path.append(current_node.city)\n",
    "                current_node = current_node.parent\n",
    "            path.reverse()\n",
    "            return path, distance\n",
    "\n",
    "        visited.add(current_city)\n",
    "\n",
    "        for neighbor, cost in graph[current_city].items():\n",
    "            if neighbor in visited:\n",
    "                continue\n",
    "\n",
    "            g_cost = current_node.g_cost + cost\n",
    "            h_cost = calculate_heuristic(neighbor, goal_city)\n",
    "            f_cost = g_cost + h_cost\n",
    "            neighbor_node = Node(neighbor, current_node, g_cost, h_cost)\n",
    "\n",
    "            open_list.put((f_cost, neighbor_node))\n",
    "\n",
    "    return None, float('inf') "
   ]
  },
  {
   "cell_type": "markdown",
   "id": "22a35817",
   "metadata": {},
   "source": [
    "# Defining Heuristic Function"
   ]
  },
  {
   "cell_type": "code",
   "execution_count": 15,
   "id": "98ae6734",
   "metadata": {},
   "outputs": [],
   "source": [
    "def calculate_heuristic(city, goal_city):\n",
    "    lat1, long1 = lat_long[city]\n",
    "    lat2, long2 = lat_long[goal_city]\n",
    "    distance = geodesic((lat1, long1), (lat2, long2)).km\n",
    "    return distance"
   ]
  },
  {
   "cell_type": "markdown",
   "id": "0f6a2a62",
   "metadata": {},
   "source": [
    "# Visualization Of The Test Examples"
   ]
  },
  {
   "cell_type": "code",
   "execution_count": 16,
   "id": "cb1fc81d",
   "metadata": {},
   "outputs": [
    {
     "name": "stdout",
     "output_type": "stream",
     "text": [
      "Shortest path from Arad to Bucharest: ['Arad', 'Sibiu', 'Rimnicu Vilcea', 'Pitesti', 'Bucharest']\n",
      "Distance: 418\n"
     ]
    }
   ],
   "source": [
    "start_city = 'Arad'\n",
    "goal_city = 'Bucharest'\n",
    "shortest_path, distance = find_shortest_path(start_city, goal_city)\n",
    "print(f\"Shortest path from {start_city} to {goal_city}: {shortest_path}\")\n",
    "print(f\"Distance: {distance}\")\n",
    "\n"
   ]
  },
  {
   "cell_type": "markdown",
   "id": "87e7a4e8",
   "metadata": {},
   "source": [
    "# FIN-------"
   ]
  },
  {
   "cell_type": "code",
   "execution_count": null,
   "id": "e39959b0",
   "metadata": {},
   "outputs": [],
   "source": []
  }
 ],
 "metadata": {
  "kernelspec": {
   "display_name": "Python 3",
   "language": "python",
   "name": "python3"
  },
  "language_info": {
   "codemirror_mode": {
    "name": "ipython",
    "version": 3
   },
   "file_extension": ".py",
   "mimetype": "text/x-python",
   "name": "python",
   "nbconvert_exporter": "python",
   "pygments_lexer": "ipython3",
   "version": "3.8.10"
  }
 },
 "nbformat": 4,
 "nbformat_minor": 5
}
