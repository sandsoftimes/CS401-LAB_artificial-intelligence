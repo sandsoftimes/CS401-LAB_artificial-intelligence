{
 "cells": [
  {
   "cell_type": "code",
   "execution_count": 1,
   "id": "1f0b3aa1",
   "metadata": {},
   "outputs": [],
   "source": [
    "import numpy as np\n",
    "\n",
    "class SingleLayerPerceptron:\n",
    "    def __init__(self, learning_rate=0.01, max_epochs=100):\n",
    "        self.learning_rate = learning_rate\n",
    "        self.max_epochs = max_epochs\n",
    "    \n",
    "    def fit(self, X, y):\n",
    "        self.n_samples, self.n_features = X.shape\n",
    "        self.weights = np.zeros(self.n_features + 1)  # Add bias weight\n",
    "        self.errors = []\n",
    "        \n",
    "        for _ in range(self.max_epochs):\n",
    "            error = 0\n",
    "            \n",
    "            for i in range(self.n_samples):\n",
    "                # Add bias term to input data\n",
    "                inputs = np.concatenate((X[i], [1]))\n",
    "                \n",
    "                # Compute predicted output\n",
    "                predicted = self.predict_single(inputs)\n",
    "                \n",
    "                # Update weights\n",
    "                update = self.learning_rate * (y[i] - predicted)\n",
    "                self.weights += update * inputs\n",
    "                \n",
    "                # Accumulate squared error\n",
    "                error += 0.5 * (y[i] - predicted) ** 2\n",
    "            \n",
    "            self.errors.append(error)\n",
    "    \n",
    "    def predict(self, X):\n",
    "        y_pred = []\n",
    "        for i in range(X.shape[0]):\n",
    "            inputs = np.concatenate((X[i], [1]))\n",
    "            prediction = self.predict_single(inputs)\n",
    "            y_pred.append(prediction)\n",
    "        return np.array(y_pred)\n",
    "    \n",
    "    def predict_single(self, inputs):\n",
    "        activation = np.dot(inputs, self.weights)\n",
    "        return 1 if activation >= 0 else 0\n"
   ]
  },
  {
   "cell_type": "code",
   "execution_count": null,
   "id": "f91994dc",
   "metadata": {},
   "outputs": [],
   "source": []
  }
 ],
 "metadata": {
  "kernelspec": {
   "display_name": "Python 3",
   "language": "python",
   "name": "python3"
  },
  "language_info": {
   "codemirror_mode": {
    "name": "ipython",
    "version": 3
   },
   "file_extension": ".py",
   "mimetype": "text/x-python",
   "name": "python",
   "nbconvert_exporter": "python",
   "pygments_lexer": "ipython3",
   "version": "3.8.10"
  }
 },
 "nbformat": 4,
 "nbformat_minor": 5
}
