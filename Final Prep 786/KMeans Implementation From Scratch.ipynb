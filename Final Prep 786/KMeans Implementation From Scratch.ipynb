{
 "cells": [
  {
   "cell_type": "code",
   "execution_count": 2,
   "id": "8ebba5b0",
   "metadata": {},
   "outputs": [],
   "source": [
    "import numpy as np\n",
    "\n",
    "class KMeans:\n",
    "    def __init__(self, n_clusters, max_iter=100):\n",
    "        self.n_clusters = n_clusters\n",
    "        self.max_iter = max_iter\n",
    "    \n",
    "    def fit(self, X):\n",
    "        self.n_samples, self.n_features = X.shape\n",
    "        \n",
    "        # Initialize cluster centroids\n",
    "        self.centroids = self.initialize_centroids(X)\n",
    "        \n",
    "        # Iterate until convergence or max iterations reached\n",
    "        for _ in range(self.max_iter):\n",
    "            # Assign data points to clusters\n",
    "            labels = self.assign_clusters(X)\n",
    "            \n",
    "            # Update centroids\n",
    "            new_centroids = self.update_centroids(X, labels)\n",
    "            \n",
    "            # Check convergence\n",
    "            if np.allclose(self.centroids, new_centroids):\n",
    "                break\n",
    "            \n",
    "            self.centroids = new_centroids\n",
    "    \n",
    "    def predict(self, X):\n",
    "        labels = self.assign_clusters(X)\n",
    "        return labels\n",
    "    \n",
    "    def initialize_centroids(self, X):\n",
    "        random_indices = np.random.choice(self.n_samples, self.n_clusters, replace=False)\n",
    "        centroids = X[random_indices]\n",
    "        return centroids\n",
    "    \n",
    "    def assign_clusters(self, X):\n",
    "        labels = []\n",
    "        for sample in X:\n",
    "            distances = np.linalg.norm(sample - self.centroids, axis=1)\n",
    "            cluster_index = np.argmin(distances)\n",
    "            labels.append(cluster_index)\n",
    "        return np.array(labels)\n",
    "    \n",
    "    def update_centroids(self, X, labels):\n",
    "        new_centroids = []\n",
    "        for cluster_index in range(self.n_clusters):\n",
    "            cluster_points = X[labels == cluster_index]\n",
    "            if len(cluster_points) > 0:\n",
    "                centroid = np.mean(cluster_points, axis=0)\n",
    "            else:\n",
    "                centroid = self.centroids[cluster_index]\n",
    "            new_centroids.append(centroid)\n",
    "        return np.array(new_centroids)\n"
   ]
  },
  {
   "cell_type": "code",
   "execution_count": null,
   "id": "5d3cf482",
   "metadata": {},
   "outputs": [],
   "source": []
  }
 ],
 "metadata": {
  "kernelspec": {
   "display_name": "Python 3",
   "language": "python",
   "name": "python3"
  },
  "language_info": {
   "codemirror_mode": {
    "name": "ipython",
    "version": 3
   },
   "file_extension": ".py",
   "mimetype": "text/x-python",
   "name": "python",
   "nbconvert_exporter": "python",
   "pygments_lexer": "ipython3",
   "version": "3.8.10"
  }
 },
 "nbformat": 4,
 "nbformat_minor": 5
}
