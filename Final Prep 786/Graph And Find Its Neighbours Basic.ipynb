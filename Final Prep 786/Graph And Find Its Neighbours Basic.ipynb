{
 "cells": [
  {
   "cell_type": "code",
   "execution_count": 1,
   "id": "240414de",
   "metadata": {},
   "outputs": [
    {
     "name": "stdout",
     "output_type": "stream",
     "text": [
      "Neighbors of node 2 are: [1, 3, 4]\n"
     ]
    }
   ],
   "source": [
    "class Graph:\n",
    "    def __init__(self):\n",
    "        self.adjacency_list = {}\n",
    "\n",
    "    def add_edge(self, u, v):\n",
    "        if u not in self.adjacency_list:\n",
    "            self.adjacency_list[u] = []\n",
    "        if v not in self.adjacency_list:\n",
    "            self.adjacency_list[v] = []\n",
    "\n",
    "        self.adjacency_list[u].append(v)\n",
    "        self.adjacency_list[v].append(u)\n",
    "\n",
    "    def get_neighbors(self, node):\n",
    "        if node in self.adjacency_list:\n",
    "            return self.adjacency_list[node]\n",
    "        else:\n",
    "            return []\n",
    "\n",
    "# Example usage\n",
    "graph = Graph()\n",
    "\n",
    "graph.add_edge(1, 2)\n",
    "graph.add_edge(2, 3)\n",
    "graph.add_edge(3, 4)\n",
    "graph.add_edge(2, 4)\n",
    "\n",
    "node = 2\n",
    "neighbors = graph.get_neighbors(node)\n",
    "\n",
    "print(\"Neighbors of node\", node, \"are:\", neighbors)\n"
   ]
  },
  {
   "cell_type": "code",
   "execution_count": null,
   "id": "d5dc9b53",
   "metadata": {},
   "outputs": [],
   "source": []
  }
 ],
 "metadata": {
  "kernelspec": {
   "display_name": "Python 3",
   "language": "python",
   "name": "python3"
  },
  "language_info": {
   "codemirror_mode": {
    "name": "ipython",
    "version": 3
   },
   "file_extension": ".py",
   "mimetype": "text/x-python",
   "name": "python",
   "nbconvert_exporter": "python",
   "pygments_lexer": "ipython3",
   "version": "3.8.10"
  }
 },
 "nbformat": 4,
 "nbformat_minor": 5
}
