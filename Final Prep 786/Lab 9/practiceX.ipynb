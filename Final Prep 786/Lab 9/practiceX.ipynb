{
 "cells": [
  {
   "cell_type": "code",
   "execution_count": 1,
   "id": "391ba77e",
   "metadata": {},
   "outputs": [],
   "source": [
    "board=[]\n",
    "for y in range(8):\n",
    "    row=[]\n",
    "    for x in range(8):\n",
    "        row.append(0)\n",
    "    board.append(row)"
   ]
  },
  {
   "cell_type": "code",
   "execution_count": 2,
   "id": "9df45e50",
   "metadata": {},
   "outputs": [
    {
     "data": {
      "text/plain": [
       "[[0, 0, 0, 0, 0, 0, 0, 0],\n",
       " [0, 0, 0, 0, 0, 0, 0, 0],\n",
       " [0, 0, 0, 0, 0, 0, 0, 0],\n",
       " [0, 0, 0, 0, 0, 0, 0, 0],\n",
       " [0, 0, 0, 0, 0, 0, 0, 0],\n",
       " [0, 0, 0, 0, 0, 0, 0, 0],\n",
       " [0, 0, 0, 0, 0, 0, 0, 0],\n",
       " [0, 0, 0, 0, 0, 0, 0, 0]]"
      ]
     },
     "execution_count": 2,
     "metadata": {},
     "output_type": "execute_result"
    }
   ],
   "source": [
    "board"
   ]
  },
  {
   "cell_type": "code",
   "execution_count": 3,
   "id": "34a364db",
   "metadata": {},
   "outputs": [
    {
     "data": {
      "text/plain": [
       "[[0, 0, 0, 0, 0, 0, 0, 0],\n",
       " [0, 0, 0, 0, 0, 0, 0, 0],\n",
       " [0, 0, 0, 0, 0, 0, 0, 0],\n",
       " [0, 0, 0, 0, 0, 0, 0, 0],\n",
       " [0, 0, 0, 0, 0, 0, 0, 0],\n",
       " [0, 0, 0, 0, 0, 0, 0, 0],\n",
       " [0, 0, 0, 0, 0, 0, 0, 0],\n",
       " [0, 0, 0, 0, 0, 0, 0, 0]]"
      ]
     },
     "execution_count": 3,
     "metadata": {},
     "output_type": "execute_result"
    }
   ],
   "source": [
    "board=[[0 for x in range(8)] for y in range(8)]\n",
    "board"
   ]
  },
  {
   "cell_type": "code",
   "execution_count": 4,
   "id": "4089d6e9",
   "metadata": {},
   "outputs": [],
   "source": [
    "def place_queen():\n",
    "    row.random.randint(0,7)\n",
    "    col=random.randint(0,7)\n",
    "    board[row][col]=1"
   ]
  },
  {
   "cell_type": "code",
   "execution_count": 7,
   "id": "208adcfc",
   "metadata": {},
   "outputs": [],
   "source": [
    "def attacking_queens(board):\n",
    "    count=0\n",
    "    for i in range(8):\n",
    "        for j in range(8):\n",
    "            if board[i][j]==1:\n",
    "                for k in range(8):\n",
    "                    if k!=i and board[k][j]==1:\n",
    "                        count+=1\n",
    "                    if k!=j and board[i][k]==1:\n",
    "                        count+=1\n",
    "                    if i+k<8 and j+k<8 and board[i+k][j+k]==1:\n",
    "                        count+=1\n",
    "                    if i+k<8 and j-k>=0 and board[i+k][j-k]==1:\n",
    "                        count+=1\n",
    "                    if i-k>=00 and j+k<8 and board [i-k][j+k]==1:\n",
    "                        count+=1\n",
    "                    if i-k>=0 and j-k>=0 and board[i-k][j-k]==1:\n",
    "                        count+=1\n",
    "    return count //2"
   ]
  },
  {
   "cell_type": "code",
   "execution_count": null,
   "id": "af8df57f",
   "metadata": {},
   "outputs": [],
   "source": [
    "c"
   ]
  }
 ],
 "metadata": {
  "kernelspec": {
   "display_name": "Python 3",
   "language": "python",
   "name": "python3"
  },
  "language_info": {
   "codemirror_mode": {
    "name": "ipython",
    "version": 3
   },
   "file_extension": ".py",
   "mimetype": "text/x-python",
   "name": "python",
   "nbconvert_exporter": "python",
   "pygments_lexer": "ipython3",
   "version": "3.8.10"
  }
 },
 "nbformat": 4,
 "nbformat_minor": 5
}
