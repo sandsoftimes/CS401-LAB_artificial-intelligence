{
 "cells": [
  {
   "cell_type": "code",
   "execution_count": 1,
   "id": "4b3a2b7c",
   "metadata": {},
   "outputs": [],
   "source": [
    "board=[]\n",
    "for y in range(8):\n",
    "    row=[]\n",
    "    for x in range(8):\n",
    "        row.append(0)\n",
    "    board.append(row)"
   ]
  },
  {
   "cell_type": "code",
   "execution_count": 2,
   "id": "1a5009f7",
   "metadata": {},
   "outputs": [
    {
     "data": {
      "text/plain": [
       "[[0, 0, 0, 0, 0, 0, 0, 0],\n",
       " [0, 0, 0, 0, 0, 0, 0, 0],\n",
       " [0, 0, 0, 0, 0, 0, 0, 0],\n",
       " [0, 0, 0, 0, 0, 0, 0, 0],\n",
       " [0, 0, 0, 0, 0, 0, 0, 0],\n",
       " [0, 0, 0, 0, 0, 0, 0, 0],\n",
       " [0, 0, 0, 0, 0, 0, 0, 0],\n",
       " [0, 0, 0, 0, 0, 0, 0, 0]]"
      ]
     },
     "execution_count": 2,
     "metadata": {},
     "output_type": "execute_result"
    }
   ],
   "source": [
    "board"
   ]
  },
  {
   "cell_type": "code",
   "execution_count": 3,
   "id": "46b08169",
   "metadata": {},
   "outputs": [
    {
     "data": {
      "text/plain": [
       "[[0, 0, 0, 0, 0, 0, 0, 0],\n",
       " [0, 0, 0, 0, 0, 0, 0, 0],\n",
       " [0, 0, 0, 0, 0, 0, 0, 0],\n",
       " [0, 0, 0, 0, 0, 0, 0, 0],\n",
       " [0, 0, 0, 0, 0, 0, 0, 0],\n",
       " [0, 0, 0, 0, 0, 0, 0, 0],\n",
       " [0, 0, 0, 0, 0, 0, 0, 0],\n",
       " [0, 0, 0, 0, 0, 0, 0, 0]]"
      ]
     },
     "execution_count": 3,
     "metadata": {},
     "output_type": "execute_result"
    }
   ],
   "source": [
    "board=[[0 for x in range(8)] for y in range(8)]\n",
    "board"
   ]
  },
  {
   "cell_type": "code",
   "execution_count": 4,
   "id": "94acdc05",
   "metadata": {},
   "outputs": [],
   "source": [
    "def place_queen():\n",
    "    row.random.randint(0,7)\n",
    "    col=random.randint(0,7)\n",
    "    board[row][col]=1"
   ]
  },
  {
   "cell_type": "code",
   "execution_count": 6,
   "id": "79b08d53",
   "metadata": {},
   "outputs": [
    {
     "ename": "SyntaxError",
     "evalue": "invalid syntax (<ipython-input-6-6dcd34408794>, line 13)",
     "output_type": "error",
     "traceback": [
      "\u001b[0;36m  File \u001b[0;32m\"<ipython-input-6-6dcd34408794>\"\u001b[0;36m, line \u001b[0;32m13\u001b[0m\n\u001b[0;31m    if i+k<8 and j-k>=0 and bpard\u001b[0m\n\u001b[0m                                 ^\u001b[0m\n\u001b[0;31mSyntaxError\u001b[0m\u001b[0;31m:\u001b[0m invalid syntax\n"
     ]
    }
   ],
   "source": [
    "def attacking_queens(board):\n",
    "    count=0\n",
    "    for i in range(8):\n",
    "        for j in range(8):\n",
    "            if board[i][j]==1:\n",
    "                for k in range(8):\n",
    "                    if k!=i and board[k][j]==1:\n",
    "                        count+=1\n",
    "                    if k!=j and board[i][k]==1:\n",
    "                        count+=1\n",
    "                    if i+k<8 and j+k<8 and board[i+k][j+k]==1:\n",
    "                        count+=1\n",
    "                    if i+k<8 and j-k>=0 and board[i+k][j-k]==1:\n",
    "                        count+=1\n",
    "                    if i-k>=00 and j+k<8 and board [i-k][j+k]==1:\n",
    "                        count+=1\n",
    "                    if i-k>=0 and j-k>=0 and board[i-k][j-k]==1:\n",
    "                        count+=1\n",
    "    return count //2"
   ]
  },
  {
   "cell_type": "code",
   "execution_count": null,
   "id": "7461a5d0",
   "metadata": {},
   "outputs": [],
   "source": [
    "c"
   ]
  }
 ],
 "metadata": {
  "kernelspec": {
   "display_name": "Python 3",
   "language": "python",
   "name": "python3"
  },
  "language_info": {
   "codemirror_mode": {
    "name": "ipython",
    "version": 3
   },
   "file_extension": ".py",
   "mimetype": "text/x-python",
   "name": "python",
   "nbconvert_exporter": "python",
   "pygments_lexer": "ipython3",
   "version": "3.8.10"
  }
 },
 "nbformat": 4,
 "nbformat_minor": 5
}
