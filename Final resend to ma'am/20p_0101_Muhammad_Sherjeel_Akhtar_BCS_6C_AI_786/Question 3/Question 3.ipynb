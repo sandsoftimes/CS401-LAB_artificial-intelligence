{
 "cells": [
  {
   "cell_type": "markdown",
   "id": "e8db6306",
   "metadata": {},
   "source": [
    "# Question 3\n",
    "# 8-Puzzle-Problem"
   ]
  },
  {
   "cell_type": "code",
   "execution_count": null,
   "id": "0f96b69a",
   "metadata": {},
   "outputs": [],
   "source": [
    "import random"
   ]
  },
  {
   "cell_type": "markdown",
   "id": "2e162ecc",
   "metadata": {},
   "source": [
    "# Initial parameters"
   ]
  },
  {
   "cell_type": "code",
   "execution_count": null,
   "id": "903dbe03",
   "metadata": {},
   "outputs": [],
   "source": [
    "MUTATION_RATE = 0.05\n",
    "MAX_ITERATIONS = 100\n",
    "# Initialize population\n",
    "chromosome = [2, 8, 3, 1, 6, 4, 7]"
   ]
  },
  {
   "cell_type": "markdown",
   "id": "0660349d",
   "metadata": {},
   "source": [
    "# Fitness function"
   ]
  },
  {
   "cell_type": "code",
   "execution_count": null,
   "id": "296b8287",
   "metadata": {},
   "outputs": [],
   "source": [
    "def fitness(chromosome):\n",
    "    array = [chromosome[i:i + 3] for i in range(0, len(chromosome), 3)]\n",
    "    return sum([sum(row) for row in array])"
   ]
  },
  {
   "cell_type": "markdown",
   "id": "e717c8ff",
   "metadata": {},
   "source": [
    "# Single-point crossover"
   ]
  },
  {
   "cell_type": "code",
   "execution_count": null,
   "id": "5851a730",
   "metadata": {},
   "outputs": [],
   "source": [
    "def crossover(parent1, parent2):\n",
    "    crossover_point = random.randint(1, len(parent1) - 1)\n",
    "    child1 = parent1[:crossover_point] + parent2[crossover_point:]\n",
    "    child2 = parent2[:crossover_point] + parent1[crossover_point:]\n",
    "    return child1, child2\n"
   ]
  },
  {
   "cell_type": "markdown",
   "id": "2f12362d",
   "metadata": {},
   "source": [
    "# Mutation"
   ]
  },
  {
   "cell_type": "code",
   "execution_count": null,
   "id": "7f166e0f",
   "metadata": {},
   "outputs": [],
   "source": [
    "def mutation(child):\n",
    "    for i in range(len(child)):\n",
    "        if random.random() < MUTATION_RATE:\n",
    "            child[i] = 1 - child[i]\n",
    "    return child\n"
   ]
  },
  {
   "cell_type": "markdown",
   "id": "026c4034",
   "metadata": {},
   "source": [
    "# Goal test"
   ]
  },
  {
   "cell_type": "code",
   "execution_count": null,
   "id": "1af6c6ad",
   "metadata": {},
   "outputs": [],
   "source": [
    "def goal_test(chromosome):\n",
    "    array = [chromosome[i:i + 3] for i in range(0, len(chromosome), 3)]\n",
    "    return all([all(row) for row in array])"
   ]
  },
  {
   "cell_type": "markdown",
   "id": "cdea7f26",
   "metadata": {},
   "source": [
    "# Main loop Of Program"
   ]
  },
  {
   "cell_type": "code",
   "execution_count": 257,
   "id": "4a44491e",
   "metadata": {},
   "outputs": [
    {
     "name": "stdout",
     "output_type": "stream",
     "text": [
      "Solution found after 0 iterations.\n",
      "Chromosome: [2, 8, 3, 1, 6, 4, 7]\n",
      "Fitness value: 31\n"
     ]
    }
   ],
   "source": [
    "iteration = 0\n",
    "while iteration < MAX_ITERATIONS:\n",
    "    # Crossover\n",
    "    child1, child2 = crossover(chromosome, chromosome)\n",
    "    \n",
    "    # Mutation\n",
    "    child1 = mutation(child1)\n",
    "    child2 = mutation(child2)\n",
    "    \n",
    "    # Calculate fitness\n",
    "    fitness_child1 = fitness(child1)\n",
    "    fitness_child2 = fitness(child2)\n",
    "    \n",
    "    # Goal test\n",
    "    if goal_test(child1) or goal_test(child2):\n",
    "        print(\"Solution found after {} iterations.\".format(iteration))\n",
    "        break\n",
    "    \n",
    "    # Replace parent with the more fit child\n",
    "    if fitness_child1 > fitness_child2:\n",
    "        chromosome = child1\n",
    "    else:\n",
    "        chromosome = child2\n",
    "    \n",
    "    iteration += 1\n",
    "\n",
    "# Print final chromosome and fitness value\n",
    "print(\"Chromosome: {}\".format(chromosome))\n",
    "print(\"Fitness value: {}\".format(fitness(chromosome)))\n"
   ]
  },
  {
   "cell_type": "code",
   "execution_count": null,
   "id": "b424311a",
   "metadata": {},
   "outputs": [],
   "source": []
  },
  {
   "cell_type": "code",
   "execution_count": null,
   "id": "a01ae878",
   "metadata": {},
   "outputs": [],
   "source": []
  },
  {
   "cell_type": "code",
   "execution_count": null,
   "id": "d55061e4",
   "metadata": {},
   "outputs": [],
   "source": []
  }
 ],
 "metadata": {
  "kernelspec": {
   "display_name": "Python 3",
   "language": "python",
   "name": "python3"
  },
  "language_info": {
   "codemirror_mode": {
    "name": "ipython",
    "version": 3
   },
   "file_extension": ".py",
   "mimetype": "text/x-python",
   "name": "python",
   "nbconvert_exporter": "python",
   "pygments_lexer": "ipython3",
   "version": "3.8.10"
  }
 },
 "nbformat": 4,
 "nbformat_minor": 5
}
