{
 "cells": [
  {
   "cell_type": "markdown",
   "id": "edf0b3f6",
   "metadata": {},
   "source": [
    "# emergency_stop"
   ]
  },
  {
   "cell_type": "code",
   "execution_count": 1,
   "id": "0d7ba3aa",
   "metadata": {},
   "outputs": [],
   "source": [
    "def emergency_stop(val):\n",
    "    got=int(val)\n",
    "    if(val!=1):\n",
    "        print(\"lift is running smoothly\")\n",
    "        return 1\n",
    "    else:\n",
    "        print(\"Stopping the elevator\")\n",
    "        print(\"Triggering the alert to building security\")\n",
    "        return 0"
   ]
  },
  {
   "cell_type": "markdown",
   "id": "d7d8df3e",
   "metadata": {},
   "source": [
    "# check_capacity"
   ]
  },
  {
   "cell_type": "code",
   "execution_count": 2,
   "id": "cc7de994",
   "metadata": {},
   "outputs": [],
   "source": [
    "\n",
    "def check_capacity(capacity):\n",
    "    got=int(capacity)\n",
    "    print(\"Right now current capacity occupied in elevator by check_capacity is: \",got)\n",
    "    if(got>=10):\n",
    "        return False\n",
    "    else:\n",
    "        return True"
   ]
  },
  {
   "cell_type": "markdown",
   "id": "a3acab5a",
   "metadata": {},
   "source": [
    "# move_to_floor"
   ]
  },
  {
   "cell_type": "code",
   "execution_count": 3,
   "id": "a0e49058",
   "metadata": {},
   "outputs": [],
   "source": [
    "\n",
    "def move_to_floor(floor_number):\n",
    "    print(\"Moving To Floor\",floor_number)\n",
    "    return floor_number"
   ]
  },
  {
   "cell_type": "markdown",
   "id": "e219b50f",
   "metadata": {},
   "source": [
    "# vacuum_world"
   ]
  },
  {
   "cell_type": "code",
   "execution_count": 4,
   "id": "1ee4106a",
   "metadata": {},
   "outputs": [
    {
     "name": "stdout",
     "output_type": "stream",
     "text": [
      "Elevator button is pressed\n",
      "Doors are opening\n",
      "Enter floor of building (1/10): 3\n",
      "Moving To Floor 3\n",
      "Location variable is:  3\n",
      "Elevator can occupy upto than 10 people\n",
      "Enter status/currentpeople in elevator: 7\n",
      "Current people in elevator: 7\n",
      "Right now current capacity occupied in elevator by check_capacity is:  7\n",
      "Space available in the elevator\n",
      "1 to press emergency button: 1\n",
      "Stopping the elevator\n",
      "Triggering the alert to building security\n",
      "Value recieved to building security in alert variable\n"
     ]
    }
   ],
   "source": [
    "\n",
    "def vacuum_world():\n",
    "    # Initialize goal state with both rooms as clean\n",
    "    \n",
    "#     goal_state = {'A': '0', 'B': '0'}\n",
    "    cost = 0\n",
    "    # Get user input for vacuum location and room status\n",
    "    print(\"Elevator button is pressed\")\n",
    "    print(\"Doors are opening\")\n",
    "    floor_number = input(\"Enter floor of building (1/10): \")\n",
    "    location=move_to_floor(floor_number)\n",
    "    print(\"Location variable is: \",location)\n",
    "    print(\"Elevator can occupy upto than 10 people\")\n",
    "    status = input(f\"Enter status/currentpeople in elevator: \")\n",
    "    print(\"Current people in elevator:\", status)\n",
    "    cBool=check_capacity(status)\n",
    "    if(cBool==True):\n",
    "        print(\"Space available in the elevator\")\n",
    "    if(cBool==False):\n",
    "        print(\"Space not available in elevator, it's occupied completely\")\n",
    "    emergency= int(input(f\"1 to press emergency button: \"))\n",
    "    alert=emergency_stop(emergency)\n",
    "    if(alert==0):\n",
    "        print(\"Value recieved to building security in alert variable\")\n",
    "    other_room = 'A' if location == 'B' else 'B'\n",
    "vacuum_world()"
   ]
  },
  {
   "cell_type": "markdown",
   "id": "c32d4d83",
   "metadata": {},
   "source": [
    "# "
   ]
  },
  {
   "cell_type": "code",
   "execution_count": null,
   "id": "56fca5d0",
   "metadata": {},
   "outputs": [],
   "source": []
  }
 ],
 "metadata": {
  "kernelspec": {
   "display_name": "Python 3",
   "language": "python",
   "name": "python3"
  },
  "language_info": {
   "codemirror_mode": {
    "name": "ipython",
    "version": 3
   },
   "file_extension": ".py",
   "mimetype": "text/x-python",
   "name": "python",
   "nbconvert_exporter": "python",
   "pygments_lexer": "ipython3",
   "version": "3.8.10"
  }
 },
 "nbformat": 4,
 "nbformat_minor": 5
}
