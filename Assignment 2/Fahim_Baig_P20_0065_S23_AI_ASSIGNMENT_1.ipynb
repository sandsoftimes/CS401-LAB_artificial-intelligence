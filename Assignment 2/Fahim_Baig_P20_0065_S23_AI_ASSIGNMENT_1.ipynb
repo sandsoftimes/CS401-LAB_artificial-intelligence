{
 "cells": [
  {
   "cell_type": "code",
   "execution_count": 37,
   "id": "4e2673c0",
   "metadata": {},
   "outputs": [],
   "source": [
    "import random"
   ]
  },
  {
   "cell_type": "code",
   "execution_count": 70,
   "id": "aa56c6f4",
   "metadata": {},
   "outputs": [],
   "source": [
    "num_items = 10\n",
    "max_weight = 35\n",
    "pop_size = 10\n",
    "max_gens = 1000\n",
    "mutation_rate = 00.1"
   ]
  },
  {
   "cell_type": "code",
   "execution_count": 71,
   "id": "3fb15d0a",
   "metadata": {},
   "outputs": [],
   "source": [
    "# Function to calculate the fitness of an individual\n",
    "def fitness(individual):\n",
    "    total_weight = 0\n",
    "    total_price = 0\n",
    "    for i in range(num_items):\n",
    "        if individual[i] == 1:\n",
    "            total_weight += items[i][0]\n",
    "            total_price += items[i][1]\n",
    "    if total_weight > max_weight:\n",
    "        return 0\n",
    "    else:\n",
    "        return total_price"
   ]
  },
  {
   "cell_type": "code",
   "execution_count": 72,
   "id": "7b037eac",
   "metadata": {},
   "outputs": [],
   "source": [
    "\n",
    "# Function to create an individual with random genes\n",
    "def create_individual():\n",
    "    individual = []\n",
    "    for _ in range(num_items):\n",
    "        gene = random.randint(0, 1)\n",
    "        individual.append(gene)\n",
    "    print(individual)\n",
    "    return individual"
   ]
  },
  {
   "cell_type": "code",
   "execution_count": 73,
   "id": "52e8a90a",
   "metadata": {},
   "outputs": [],
   "source": [
    "# Function for one-point crossover between parents\n",
    "def crossover(parent1, parent2):\n",
    "    crossover_point = random.randint(0, num_items - 1)\n",
    "    child1 = parent1[:crossover_point] + parent2[crossover_point:]\n",
    "    child2 = parent2[:crossover_point] + parent1[crossover_point:]\n",
    "    return child1, child2"
   ]
  },
  {
   "cell_type": "code",
   "execution_count": 74,
   "id": "32c9c63f",
   "metadata": {},
   "outputs": [],
   "source": [
    "# Function for bit-wise mutation\n",
    "def mutate(individual):\n",
    "    for i in range(num_items):\n",
    "        if random.random() < mutation_rate:\n",
    "            individual[i] = 1 - individual[i]"
   ]
  },
  {
   "cell_type": "code",
   "execution_count": 75,
   "id": "9060c9fb",
   "metadata": {},
   "outputs": [
    {
     "name": "stdout",
     "output_type": "stream",
     "text": [
      "[1, 0, 1, 1, 0, 1, 0, 0, 0, 1]\n",
      "[0, 1, 1, 1, 1, 0, 1, 1, 0, 0]\n",
      "[0, 0, 1, 1, 0, 1, 1, 0, 1, 1]\n",
      "[0, 1, 1, 1, 0, 0, 1, 1, 0, 0]\n",
      "[0, 0, 0, 0, 0, 0, 1, 0, 1, 1]\n",
      "[0, 0, 1, 1, 1, 0, 1, 0, 1, 0]\n",
      "[0, 1, 0, 1, 1, 0, 1, 1, 1, 0]\n",
      "[1, 1, 0, 0, 0, 0, 1, 1, 0, 1]\n",
      "[0, 1, 0, 1, 0, 0, 0, 0, 1, 0]\n",
      "[1, 1, 1, 0, 0, 1, 0, 1, 0, 0]\n",
      "the best solution I found:\n",
      "Best individual: [1, 0, 1, 1, 0, 0, 0, 1, 1, 1]\n",
      "Fitness: 232\n"
     ]
    }
   ],
   "source": [
    "import randomdef genetic_algorithm():\n",
    "    # Create the initial population\n",
    "    population = [create_individual() for _ in range(pop_size)]\n",
    "    \n",
    "    best_fitness = 0\n",
    "    best_individual = None\n",
    "\n",
    "    # The evolution loop starts\n",
    "    for _ in range(max_gens):\n",
    "        # Calculate the fitness for each individual\n",
    "        fitness_scores = [fitness(individual) for individual in population]\n",
    "\n",
    "        # Find the best individual in the current population\n",
    "        max_fitness = max(fitness_scores)\n",
    "        if max_fitness > best_fitness:\n",
    "            best_fitness = max_fitness\n",
    "            best_individual = population[fitness_scores.index(max_fitness)]\n",
    "\n",
    "        # Select individuals for crossover\n",
    "        mating_pool = random.choices(population, weights=fitness_scores, k=pop_size)\n",
    "\n",
    "        # Create the next generation through crossover and mutation\n",
    "        next_generation = []\n",
    "        for _ in range(pop_size // 2):\n",
    "            parent1, parent2 = random.sample(mating_pool, 2)\n",
    "            child1, child2 = crossover(parent1, parent2)\n",
    "            mutate(child1)\n",
    "            mutate(child2)\n",
    "            next_generation.extend([child1, child2])\n",
    "\n",
    "        # Replace the current population with the next generation\n",
    "        population = next_generation\n",
    "\n",
    "    return best_individual, best_fitness\n",
    "\n",
    "# Run the Genetic Algorithm\n",
    "best_solution, best_fitness = genetic_algorithm()\n",
    "\n",
    "# Print the best solution\n",
    "print(\"the best solution I found:\")\n",
    "print(\"Best individual:\", best_solution)\n",
    "print(\"Fitness:\", best_fitness)\n"
   ]
  },
  {
   "cell_type": "markdown",
   "id": "498e85af",
   "metadata": {},
   "source": [
    "# WHAT I DID "
   ]
  },
  {
   "cell_type": "markdown",
   "id": "ed106b28",
   "metadata": {},
   "source": [
    "At the beginning, the code creates a population of potential solutions (individuals) randomly.\n",
    "These solutions represent different combinations of items to put in the knapsack.\n",
    "By starting with a random population, the code explores a diverse range of possibilities.\n",
    "This randomness allows the algorithm to discover various potential solutions from the very beginning.\n",
    "As the algorithm progresses, it refines and improves the population through evolution, selecting the best individuals for future generations."
   ]
  },
  {
   "cell_type": "code",
   "execution_count": null,
   "id": "9b3ea8bf",
   "metadata": {},
   "outputs": [],
   "source": []
  }
 ],
 "metadata": {
  "kernelspec": {
   "display_name": "Python 3",
   "language": "python",
   "name": "python3"
  },
  "language_info": {
   "codemirror_mode": {
    "name": "ipython",
    "version": 3
   },
   "file_extension": ".py",
   "mimetype": "text/x-python",
   "name": "python",
   "nbconvert_exporter": "python",
   "pygments_lexer": "ipython3",
   "version": "3.8.10"
  }
 },
 "nbformat": 4,
 "nbformat_minor": 5
}
