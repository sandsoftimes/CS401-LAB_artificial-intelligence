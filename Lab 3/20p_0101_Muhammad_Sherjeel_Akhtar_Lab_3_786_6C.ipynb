{
 "cells": [
  {
   "cell_type": "code",
   "execution_count": 23,
   "metadata": {},
   "outputs": [
    {
     "name": "stdout",
     "output_type": "stream",
     "text": [
      "Train data shape:(51, 5)\n",
      "Test data shape:(9, 5)\n"
     ]
    }
   ],
   "source": [
    "import pandas as pd\n",
    "df=pd.read_csv(\"fruit_data_with_colors _1_.csv\")\n",
    "df=df.select_dtypes(include='number')\n",
    "df.fillna(df.mean(),inplace=True)\n",
    "train_data=df[:51]\n",
    "test_data=df[51:]\n",
    "print(f\"Train data shape:{train_data.shape}\")\n",
    "print(f\"Test data shape:{test_data.shape}\")"
   ]
  },
  {
   "cell_type": "code",
   "execution_count": null,
   "metadata": {},
   "outputs": [],
   "source": []
  }
 ],
 "metadata": {
  "kernelspec": {
   "display_name": "Python 3",
   "language": "python",
   "name": "python3"
  },
  "language_info": {
   "codemirror_mode": {
    "name": "ipython",
    "version": 3
   },
   "file_extension": ".py",
   "mimetype": "text/x-python",
   "name": "python",
   "nbconvert_exporter": "python",
   "pygments_lexer": "ipython3",
   "version": "3.8.10"
  }
 },
 "nbformat": 4,
 "nbformat_minor": 4
}
