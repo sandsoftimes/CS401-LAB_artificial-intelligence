{
 "cells": [
  {
   "cell_type": "markdown",
   "metadata": {},
   "source": [
    "# ----------------------------------------------------------------------------------------------------786\n",
    "# Name: Muhammad Sherjeel Akhtar\n",
    "# Roll No: 20p-0101\n",
    "# Lab Task: 09\n",
    "# Subject: Artificial Intelligence Lab\n",
    "# Section: BCS-6C\n",
    "# Submitted To Respected Ma'am: Miss Hurmat Hidayat\n",
    "# -------------------------------------------------------------------------------------------------------------"
   ]
  },
  {
   "cell_type": "markdown",
   "metadata": {},
   "source": [
    "# Importing The Library"
   ]
  },
  {
   "cell_type": "code",
   "execution_count": 3,
   "metadata": {},
   "outputs": [],
   "source": [
    "import random"
   ]
  },
  {
   "cell_type": "markdown",
   "metadata": {},
   "source": [
    "# Creating An Array For The Representation Of Chessboard "
   ]
  },
  {
   "cell_type": "code",
   "execution_count": 4,
   "metadata": {},
   "outputs": [],
   "source": [
    "board = [[0 for x in range(8)] for y in range(8)]"
   ]
  },
  {
   "cell_type": "markdown",
   "metadata": {},
   "source": [
    "# Randomly Placing A Queen On The Board Using place_queen() Function"
   ]
  },
  {
   "cell_type": "code",
   "execution_count": 5,
   "metadata": {},
   "outputs": [],
   "source": [
    "def place_queen():\n",
    "    row = random.randint(0, 7)\n",
    "    col = random.randint(0, 7)\n",
    "    board[row][col] = 1"
   ]
  },
  {
   "cell_type": "markdown",
   "metadata": {},
   "source": [
    "# Calculating The Objective Function Using The attacking_queens() Function Defined Below"
   ]
  },
  {
   "cell_type": "code",
   "execution_count": 6,
   "metadata": {},
   "outputs": [],
   "source": [
    "def attacking_queens(board):\n",
    "    count = 0\n",
    "    for i in range(8):\n",
    "        for j in range(8):\n",
    "            if board[i][j] == 1:\n",
    "                for k in range(8):\n",
    "                    if k != i and board[k][j] == 1:\n",
    "                        count += 1\n",
    "                    if k != j and board[i][k] == 1:\n",
    "                        count += 1\n",
    "                    if i+k < 8 and j+k < 8 and board[i+k][j+k] == 1:\n",
    "                        count += 1\n",
    "                    if i+k < 8 and j-k >= 0 and board[i+k][j-k] == 1:\n",
    "                        count += 1\n",
    "                    if i-k >= 0 and j+k < 8 and board[i-k][j+k] == 1:\n",
    "                        count += 1\n",
    "                    if i-k >= 0 and j-k >= 0 and board[i-k][j-k] == 1:\n",
    "                        count += 1\n",
    "    return count // 2"
   ]
  },
  {
   "cell_type": "markdown",
   "metadata": {},
   "source": [
    "# Search For The Solution Using Hill Climbing By The hill_climbing() Function"
   ]
  },
  {
   "cell_type": "code",
   "execution_count": 7,
   "metadata": {},
   "outputs": [],
   "source": [
    "def hill_climbing(board):\n",
    "    for i in range(8):\n",
    "        place_queen()\n",
    "    current_cost = attacking_queens(board)\n",
    "    while True:\n",
    "        candidates = []\n",
    "        for i in range(8):\n",
    "            for j in range(8):\n",
    "                if board[i][j] == 1:\n",
    "                    for k in range(8):\n",
    "                        if k != i:\n",
    "                            temp = [x[:] for x in board]\n",
    "                            temp[i][j] = 0\n",
    "                            temp[k][j] = 1\n",
    "                            candidates.append(temp)\n",
    "                        if k != j:\n",
    "                            temp = [x[:] for x in board]\n",
    "                            temp[i][j] = 0\n",
    "                            temp[i][k] = 1\n",
    "                            candidates.append(temp)\n",
    "                        if i+k < 8 and j+k < 8:\n",
    "                            temp = [x[:] for x in board]\n",
    "                            temp[i][j] = 0\n",
    "                            temp[i+k][j+k] = 1\n",
    "                            candidates.append(temp)\n",
    "                        if i+k < 8 and j-k >= 0:\n",
    "                            temp = [x[:] for x in board]\n",
    "                            temp[i][j] = 0\n",
    "                            temp[i+k][j-k] = 1\n",
    "                            candidates.append(temp)\n",
    "                        if i-k >= 0 and j+k < 8:\n",
    "                            temp = [x[:] for x in board]\n",
    "                            temp[i][j] = 0\n",
    "                            temp[i-k][j+k] = 1\n",
    "                            candidates.append(temp)\n",
    "                        if i-k >= 0 and j-k >= 0:\n",
    "                            temp = [x[:] for x in board]\n",
    "                            temp[i][j] = 0\n",
    "                            temp[i-k][j-k] = 1\n",
    "                            candidates.append(temp)\n",
    "        min_cost = current_cost\n",
    "        for candidate in candidates:\n",
    "            cost = attacking_queens(candidate)\n",
    "            if cost < min_cost:\n",
    "                min_cost = cost\n",
    "                board = candidate\n",
    "        if min_cost >= current_cost:\n",
    "            break\n",
    "        current_cost = min_cost\n",
    "    return board"
   ]
  },
  {
   "cell_type": "markdown",
   "metadata": {},
   "source": [
    "# Calling The hill_climbing() Function With An Argument board"
   ]
  },
  {
   "cell_type": "code",
   "execution_count": 8,
   "metadata": {},
   "outputs": [],
   "source": [
    "solution = hill_climbing(board)"
   ]
  },
  {
   "cell_type": "markdown",
   "metadata": {},
   "source": [
    "# Printing The Final Solution"
   ]
  },
  {
   "cell_type": "code",
   "execution_count": 9,
   "metadata": {},
   "outputs": [
    {
     "name": "stdout",
     "output_type": "stream",
     "text": [
      "[0, 0, 0, 0, 0, 0, 0, 0]\n",
      "[0, 0, 0, 0, 0, 0, 0, 0]\n",
      "[0, 0, 1, 0, 0, 0, 0, 0]\n",
      "[0, 0, 0, 0, 0, 0, 0, 1]\n",
      "[0, 0, 0, 0, 0, 0, 0, 0]\n",
      "[1, 0, 0, 0, 0, 0, 0, 0]\n",
      "[0, 0, 0, 0, 0, 0, 0, 0]\n",
      "[0, 0, 0, 0, 1, 0, 0, 0]\n"
     ]
    }
   ],
   "source": [
    "for row in solution:\n",
    "    print(row)"
   ]
  },
  {
   "cell_type": "markdown",
   "metadata": {},
   "source": [
    "# For Visualizing The Random Placement Run The Below Cell"
   ]
  },
  {
   "cell_type": "code",
   "execution_count": 10,
   "metadata": {},
   "outputs": [
    {
     "name": "stdout",
     "output_type": "stream",
     "text": [
      "[0, 0, 0, 0, 1, 0, 0, 0]\n",
      "[0, 0, 1, 0, 0, 0, 0, 0]\n",
      "[0, 0, 0, 0, 0, 0, 0, 0]\n",
      "[0, 0, 0, 0, 0, 0, 0, 0]\n",
      "[0, 0, 0, 0, 0, 0, 0, 0]\n",
      "[1, 0, 0, 0, 0, 0, 0, 0]\n",
      "[0, 0, 0, 0, 0, 1, 0, 0]\n",
      "[0, 0, 0, 0, 0, 0, 0, 1]\n"
     ]
    }
   ],
   "source": [
    "solution = hill_climbing(board)\n",
    "for row in solution:\n",
    "    print(row)"
   ]
  },
  {
   "cell_type": "code",
   "execution_count": null,
   "metadata": {},
   "outputs": [],
   "source": []
  },
  {
   "cell_type": "code",
   "execution_count": null,
   "metadata": {},
   "outputs": [],
   "source": []
  },
  {
   "cell_type": "code",
   "execution_count": null,
   "metadata": {},
   "outputs": [],
   "source": []
  }
 ],
 "metadata": {
  "kernelspec": {
   "display_name": "Python 3",
   "language": "python",
   "name": "python3"
  },
  "language_info": {
   "codemirror_mode": {
    "name": "ipython",
    "version": 3
   },
   "file_extension": ".py",
   "mimetype": "text/x-python",
   "name": "python",
   "nbconvert_exporter": "python",
   "pygments_lexer": "ipython3",
   "version": "3.8.10"
  }
 },
 "nbformat": 4,
 "nbformat_minor": 4
}
