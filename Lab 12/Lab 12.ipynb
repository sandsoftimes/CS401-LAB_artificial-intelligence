{
 "cells": [
  {
   "cell_type": "code",
   "execution_count": 2,
   "metadata": {},
   "outputs": [
    {
     "name": "stdout",
     "output_type": "stream",
     "text": [
      "Solution found!\n"
     ]
    },
    {
     "data": {
      "text/plain": [
       "[[1, 1, 1, 0, 0, 1, 1, 1, 1, 1, 1, 1, 1, 1, 0, 1],\n",
       " [1, 1, 1, 1, 1, 1, 1, 1, 1, 1, 1, 1, 1, 1, 1, 1]]"
      ]
     },
     "execution_count": 2,
     "metadata": {},
     "output_type": "execute_result"
    }
   ],
   "source": [
    "import random\n",
    "\n",
    "# Initialize the population\n",
    "population_size = 10\n",
    "population = [ [random.randint(0,1) for _ in range(16)] for _ in range(population_size) ]\n",
    "\n",
    "# Define fitness function\n",
    "def fitness_function(chromosome):\n",
    "    # Convert 1D chromosome to 2D array\n",
    "    arr = [chromosome[i:i+4] for i in range(0, len(chromosome), 4)]\n",
    "    # Calculate number of 1s in the array\n",
    "    return sum([row.count(1) for row in arr])\n",
    "\n",
    "# Define selection function\n",
    "def roulette_wheel_selection(population):\n",
    "    total_fitness = sum([fitness_function(chromosome) for chromosome in population])\n",
    "    selection_probabilities = [fitness_function(chromosome)/total_fitness for chromosome in population]\n",
    "    parents = random.choices(population, weights=selection_probabilities, k=2)\n",
    "    return parents\n",
    "\n",
    "# Define crossover function\n",
    "def single_point_crossover(parents):\n",
    "    crossover_point = random.randint(0,15)\n",
    "    child1 = parents[0][:crossover_point] + parents[1][crossover_point:]\n",
    "    child2 = parents[1][:crossover_point] + parents[0][crossover_point:]\n",
    "    return child1, child2\n",
    "\n",
    "# Define mutation function\n",
    "def mutation(child, mutation_probability):\n",
    "    for i in range(len(child)):\n",
    "        if random.random() < mutation_probability:\n",
    "            child[i] = 1 - child[i]\n",
    "    return child\n",
    "\n",
    "# Define termination condition\n",
    "def is_goal_state(chromosome):\n",
    "    # Convert 1D chromosome to 2D array\n",
    "    arr = [chromosome[i:i+4] for i in range(0, len(chromosome), 4)]\n",
    "    # Check if array is filled with 1s\n",
    "    return all([all([cell == 1 for cell in row]) for row in arr])\n",
    "\n",
    "# Define main function\n",
    "def genetic_algorithm(population, fitness_function, selection_function, crossover_function, mutation_function, mutation_probability, max_iterations):\n",
    "    for i in range(max_iterations):\n",
    "        # Evaluate fitness\n",
    "        fitness_values = [fitness_function(chromosome) for chromosome in population]\n",
    "\n",
    "        # Selection\n",
    "        parents = selection_function(population)\n",
    "        \n",
    "        # Crossover\n",
    "        children = crossover_function(parents)\n",
    "\n",
    "        # Mutation\n",
    "        children = [mutation_function(child, mutation_probability) for child in children]\n",
    "\n",
    "        # Evaluate fitness\n",
    "        fitness_values_children = [fitness_function(child) for child in children]\n",
    "\n",
    "        # Goal test\n",
    "        if any([is_goal_state(child) for child in children]):\n",
    "            print(\"Solution found!\")\n",
    "            return children\n",
    "\n",
    "        # Replacement\n",
    "        min_fitness_index = fitness_values.index(min(fitness_values))\n",
    "        population[min_fitness_index] = children[0] if fitness_values_children[0] > fitness_values_children[1] else children[1]\n",
    "\n",
    "    print(\"Solution not found!\")\n",
    "    return None\n",
    "\n",
    "genetic_algorithm(population, fitness_function, roulette_wheel_selection, single_point_crossover, mutation, 0.05, 1000)\n"
   ]
  },
  {
   "cell_type": "code",
   "execution_count": null,
   "metadata": {},
   "outputs": [],
   "source": [
    "\n"
   ]
  },
  {
   "cell_type": "code",
   "execution_count": null,
   "metadata": {},
   "outputs": [],
   "source": []
  },
  {
   "cell_type": "code",
   "execution_count": null,
   "metadata": {},
   "outputs": [],
   "source": []
  },
  {
   "cell_type": "code",
   "execution_count": null,
   "metadata": {},
   "outputs": [],
   "source": []
  },
  {
   "cell_type": "code",
   "execution_count": null,
   "metadata": {},
   "outputs": [],
   "source": []
  },
  {
   "cell_type": "code",
   "execution_count": null,
   "metadata": {},
   "outputs": [],
   "source": [
    "import random\n",
    "\n",
    "# Initialize the population\n",
    "population_size = 10\n",
    "population = [ [random.randint(0,1) for _ in range(16)] for _ in range(population_size) ]"
   ]
  }
 ],
 "metadata": {
  "kernelspec": {
   "display_name": "Python 3",
   "language": "python",
   "name": "python3"
  },
  "language_info": {
   "codemirror_mode": {
    "name": "ipython",
    "version": 3
   },
   "file_extension": ".py",
   "mimetype": "text/x-python",
   "name": "python",
   "nbconvert_exporter": "python",
   "pygments_lexer": "ipython3",
   "version": "3.8.10"
  }
 },
 "nbformat": 4,
 "nbformat_minor": 4
}
