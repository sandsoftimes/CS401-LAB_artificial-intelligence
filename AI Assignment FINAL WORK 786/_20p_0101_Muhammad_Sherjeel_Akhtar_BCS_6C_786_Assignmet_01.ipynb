{
 "cells": [
  {
   "cell_type": "markdown",
   "id": "656a9efa",
   "metadata": {},
   "source": [
    "# ----------------------------------------------------------------------------------------------------786\n",
    "# Name: Muhammad Sherjeel Akhtar\n",
    "# Roll No: 20p-0101\n",
    "# Lab Assignment: 01\n",
    "# Subject: Artificial Intelligence Lab\n",
    "# Section: BCS-6C\n",
    "# Submitted To Respected Ma'am: Miss Hurmat Hidayat\n",
    "# -------------------------------------------------------------------------------------------------------------"
   ]
  },
  {
   "cell_type": "markdown",
   "id": "6fd85efb",
   "metadata": {},
   "source": [
    "# Importing Library Random"
   ]
  },
  {
   "cell_type": "code",
   "execution_count": 14,
   "id": "31708197",
   "metadata": {},
   "outputs": [],
   "source": [
    "import random"
   ]
  },
  {
   "cell_type": "markdown",
   "id": "d8dc5190",
   "metadata": {},
   "source": [
    "# Defining A Class For An Item With Two Data Members"
   ]
  },
  {
   "cell_type": "code",
   "execution_count": 2,
   "id": "e8ce76bd",
   "metadata": {},
   "outputs": [],
   "source": [
    "class Item:\n",
    "    def __init__(self, weight, value):\n",
    "        self.weight = weight\n",
    "        self.value = value"
   ]
  },
  {
   "cell_type": "markdown",
   "id": "ca781d17",
   "metadata": {},
   "source": [
    "# Function For Creating An Individual With Random Genes/Chromosomes"
   ]
  },
  {
   "cell_type": "code",
   "execution_count": 4,
   "id": "1c4b1cb9",
   "metadata": {},
   "outputs": [],
   "source": [
    "def create_population(num_items):\n",
    "    population = []\n",
    "    for _ in range(num_items):\n",
    "        population.append(random.randint(0, 1))\n",
    "    print(population)\n",
    "    return population"
   ]
  },
  {
   "cell_type": "markdown",
   "id": "fd51e448",
   "metadata": {},
   "source": [
    "# Function For Calculating The Fitness Of An Individual"
   ]
  },
  {
   "cell_type": "code",
   "execution_count": 5,
   "id": "a0437533",
   "metadata": {},
   "outputs": [],
   "source": [
    "def fitness(individual, items, max_weight):\n",
    "    total_weight = 0\n",
    "    total_value = 0\n",
    "    for i in range(len(individual)):\n",
    "        if individual[i] == 1:\n",
    "            total_weight += items[i].weight\n",
    "            total_value += items[i].value\n",
    "            if total_weight > max_weight:\n",
    "                return 0\n",
    "    return total_value"
   ]
  },
  {
   "cell_type": "markdown",
   "id": "6c105c36",
   "metadata": {},
   "source": [
    "# Function For Individuals Selection For Crossover"
   ]
  },
  {
   "cell_type": "code",
   "execution_count": 6,
   "id": "bdd33bd0",
   "metadata": {},
   "outputs": [],
   "source": [
    "def selection(population, items, max_weight):\n",
    "    fitness_scores = [fitness(individual, items, max_weight) for individual in population]\n",
    "    max_fitness = max(fitness_scores)\n",
    "    max_index = fitness_scores.index(max_fitness)\n",
    "    return population[max_index]"
   ]
  },
  {
   "cell_type": "markdown",
   "id": "2a30bbd8",
   "metadata": {},
   "source": [
    "# Function For One Point Crossover Between Parents"
   ]
  },
  {
   "cell_type": "code",
   "execution_count": 7,
   "id": "9efd1a38",
   "metadata": {},
   "outputs": [],
   "source": [
    "def crossover(parent1, parent2):\n",
    "    crossover_point = random.randint(1, len(parent1) - 1)\n",
    "    child1 = parent1[:crossover_point] + parent2[crossover_point:]\n",
    "    child2 = parent2[:crossover_point] + parent1[crossover_point:]\n",
    "    return child1, child2"
   ]
  },
  {
   "cell_type": "markdown",
   "id": "1facdff7",
   "metadata": {},
   "source": [
    "# Function Performing Bit-Wise Mutation"
   ]
  },
  {
   "cell_type": "code",
   "execution_count": 8,
   "id": "4a15a4ef",
   "metadata": {},
   "outputs": [],
   "source": [
    "def mutation(individual, mutation_rate):\n",
    "    for i in range(len(individual)):\n",
    "        if random.random() < mutation_rate:\n",
    "            individual[i] = 1 if individual[i] == 0 else 0\n",
    "    return individual"
   ]
  },
  {
   "cell_type": "markdown",
   "id": "4b82769c",
   "metadata": {},
   "source": [
    "# Function For Other Function Calls Or Main Body Of Genetic Algorithm"
   ]
  },
  {
   "cell_type": "code",
   "execution_count": 9,
   "id": "5c7db911",
   "metadata": {},
   "outputs": [],
   "source": [
    "def genetic_algorithm(items, max_weight, population_size, num_generations, mutation_rate):\n",
    "    population = [create_population(len(items)) for _ in range(population_size)]\n",
    "    for _ in range(num_generations):\n",
    "        new_population = []\n",
    "        for _ in range(population_size // 2):\n",
    "            parent1 = selection(population, items, max_weight)\n",
    "            parent2 = selection(population, items, max_weight)\n",
    "            child1, child2 = crossover(parent1, parent2)\n",
    "            child1 = mutation(child1, mutation_rate)\n",
    "            child2 = mutation(child2, mutation_rate)\n",
    "            new_population.append(child1)\n",
    "            new_population.append(child2)\n",
    "        population = new_population\n",
    "\n",
    "    best_individual = selection(population, items, max_weight)\n",
    "    best_fitness = fitness(best_individual, items, max_weight)\n",
    "    return best_individual, best_fitness\n"
   ]
  },
  {
   "cell_type": "markdown",
   "id": "21c50374",
   "metadata": {},
   "source": [
    "# Execution And Visulization"
   ]
  },
  {
   "cell_type": "code",
   "execution_count": 13,
   "id": "ca629635",
   "metadata": {},
   "outputs": [
    {
     "name": "stdout",
     "output_type": "stream",
     "text": [
      "[1, 0, 0, 1, 1, 1, 0, 0, 0, 1]\n",
      "[0, 1, 1, 0, 1, 0, 0, 1, 0, 1]\n",
      "[1, 1, 1, 1, 0, 0, 0, 0, 0, 0]\n",
      "[1, 1, 1, 1, 0, 1, 0, 0, 0, 1]\n",
      "[1, 0, 1, 0, 1, 1, 0, 0, 1, 0]\n",
      "[0, 1, 1, 1, 1, 0, 0, 0, 1, 0]\n",
      "[0, 0, 1, 1, 1, 0, 0, 1, 0, 1]\n",
      "[0, 1, 1, 0, 1, 0, 0, 0, 0, 0]\n",
      "[0, 0, 1, 0, 1, 0, 0, 1, 1, 0]\n",
      "[0, 1, 0, 0, 0, 0, 1, 0, 1, 0]\n",
      "Best individual: [0, 0, 1, 0, 1, 0, 0, 1, 1, 0]\n",
      "Best fitness: 165\n"
     ]
    }
   ],
   "source": [
    "items = [\n",
    "    Item(2, 12),\n",
    "    Item(5, 32),\n",
    "    Item(10, 40),\n",
    "    Item(6, 25),\n",
    "    Item(8, 50),\n",
    "    Item(3, 15),\n",
    "    Item(4, 20),\n",
    "    Item(9, 30),\n",
    "    Item(7, 45),\n",
    "    Item(1, 8)\n",
    "]\n",
    "\n",
    "max_weight = 35\n",
    "population_size = 10\n",
    "num_generations = 10\n",
    "mutation_rate = 0.01\n",
    "\n",
    "best_individual, best_fitness = genetic_algorithm(items, max_weight, population_size, num_generations, mutation_rate)\n",
    "\n",
    "print(\"Best individual:\", best_individual)\n",
    "print(\"Best fitness:\", best_fitness)"
   ]
  },
  {
   "cell_type": "code",
   "execution_count": null,
   "id": "1217a27c",
   "metadata": {},
   "outputs": [],
   "source": []
  }
 ],
 "metadata": {
  "kernelspec": {
   "display_name": "Python 3",
   "language": "python",
   "name": "python3"
  },
  "language_info": {
   "codemirror_mode": {
    "name": "ipython",
    "version": 3
   },
   "file_extension": ".py",
   "mimetype": "text/x-python",
   "name": "python",
   "nbconvert_exporter": "python",
   "pygments_lexer": "ipython3",
   "version": "3.8.10"
  }
 },
 "nbformat": 4,
 "nbformat_minor": 5
}
