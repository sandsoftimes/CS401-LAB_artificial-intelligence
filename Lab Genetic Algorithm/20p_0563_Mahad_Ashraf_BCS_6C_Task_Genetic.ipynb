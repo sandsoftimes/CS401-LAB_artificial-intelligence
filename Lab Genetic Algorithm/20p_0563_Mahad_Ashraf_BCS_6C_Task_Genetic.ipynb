{
 "cells": [
  {
   "cell_type": "markdown",
   "metadata": {},
   "source": [
    "# Name : Mahad Ashraf\n",
    "# Roll No : 20P-0563\n",
    "# Teacher : MA'AM Hurmat"
   ]
  },
  {
   "cell_type": "markdown",
   "metadata": {},
   "source": [
    "# Lab Task Consider the following problem and using genetic algorithm obtain"
   ]
  },
  {
   "cell_type": "code",
   "execution_count": 8,
   "metadata": {},
   "outputs": [
    {
     "name": "stdout",
     "output_type": "stream",
     "text": [
      "Chromosome 1: [1, 0, 1, 0, 0, 0, 0, 0, 1, 0, 1, 1, 1, 1, 1, 0]\n",
      "Fitness value: 8\n",
      "\n",
      "Chromosome 2: [0, 0, 0, 1, 1, 0, 0, 1, 1, 1, 1, 1, 0, 1, 1, 0]\n",
      "Fitness value: 9\n",
      "\n",
      "Chromosome 3: [1, 1, 0, 0, 0, 0, 1, 0, 1, 1, 0, 1, 1, 0, 0, 1]\n",
      "Fitness value: 8\n",
      "\n",
      "Chromosome 4: [0, 0, 0, 1, 0, 0, 1, 0, 0, 0, 0, 1, 1, 0, 1, 1]\n",
      "Fitness value: 6\n",
      "\n",
      "Chromosome 5: [0, 0, 1, 0, 1, 0, 0, 0, 1, 0, 1, 1, 0, 1, 1, 0]\n",
      "Fitness value: 7\n",
      "\n",
      "Chromosome 6: [1, 1, 0, 0, 0, 0, 1, 0, 0, 1, 0, 0, 0, 1, 1, 1]\n",
      "Fitness value: 7\n",
      "\n",
      "Chromosome 7: [0, 0, 0, 0, 1, 0, 1, 0, 1, 1, 1, 0, 1, 0, 0, 0]\n",
      "Fitness value: 6\n",
      "\n",
      "Chromosome 8: [0, 0, 0, 0, 0, 0, 0, 0, 1, 1, 0, 1, 0, 0, 0, 1]\n",
      "Fitness value: 4\n",
      "\n",
      "Chromosome 9: [1, 0, 1, 0, 0, 0, 0, 0, 1, 1, 1, 1, 0, 1, 1, 0]\n",
      "Fitness value: 8\n",
      "\n",
      "Chromosome 10: [0, 0, 1, 1, 1, 0, 0, 1, 1, 1, 0, 1, 0, 0, 1, 0]\n",
      "Fitness value: 8\n",
      "\n"
     ]
    }
   ],
   "source": [
    "import random\n",
    "\n",
    "# Initial parameters\n",
    "POPULATION_SIZE = 10\n",
    "MUTATION_RATE = 0.05\n",
    "MAX_ITERATIONS = 100\n",
    "\n",
    "# Initialize population\n",
    "population = []\n",
    "for i in range(POPULATION_SIZE):\n",
    "    chromosome = [random.randint(0, 1) for j in range(16)]\n",
    "    population.append(chromosome)\n",
    "\n",
    "# Fitness function\n",
    "def fitness(chromosome):\n",
    "    array = [chromosome[i:i+4] for i in range(0, len(chromosome), 4)]\n",
    "    return sum([sum(row) for row in array])\n",
    "\n",
    "# Roulette wheel selection\n",
    "def selection(population):\n",
    "    fitness_values = [fitness(chromosome) for chromosome in population]\n",
    "    total_fitness = sum(fitness_values)\n",
    "    selection_probabilities = [fitness_value/total_fitness for fitness_value in fitness_values]\n",
    "    selected_indices = random.choices(range(len(population)), selection_probabilities, k=2)\n",
    "    return [population[selected_indices[0]], population[selected_indices[1]]]\n",
    "\n",
    "# Single-point crossover\n",
    "def crossover(parent1, parent2):\n",
    "    crossover_point = random.randint(1, len(parent1)-1)\n",
    "    child1 = parent1[:crossover_point] + parent2[crossover_point:]\n",
    "    child2 = parent2[:crossover_point] + parent1[crossover_point:]\n",
    "    return [child1, child2]\n",
    "\n",
    "# Mutation\n",
    "def mutation(child):\n",
    "    for i in range(len(child)):\n",
    "        if random.random() < MUTATION_RATE:\n",
    "            child[i] = 1 - child[i]\n",
    "    return child\n",
    "\n",
    "# Goal test\n",
    "def goal_test(chromosome):\n",
    "    array = [chromosome[i:i+4] for i in range(0, len(chromosome), 4)]\n",
    "    return all([all(row) for row in array])\n",
    "\n",
    "# Main loop\n",
    "iteration = 0\n",
    "while iteration < MAX_ITERATIONS:\n",
    "    # Selection\n",
    "    parents = selection(population)\n",
    "    \n",
    "    # Crossover\n",
    "    children = crossover(parents[0], parents[1])\n",
    "    \n",
    "    # Mutation\n",
    "    children = [mutation(child) for child in children]\n",
    "    \n",
    "    # Calculate fitness\n",
    "    child_fitness = [fitness(child) for child in children]\n",
    "    \n",
    "    # Goal test\n",
    "    if any([goal_test(child) for child in children]):\n",
    "        print(\"Solution found after {} iterations.\".format(iteration))\n",
    "        break\n",
    "    \n",
    "    # Replace least fit members of population\n",
    "    min_fitness_index = child_fitness.index(min(child_fitness))\n",
    "    population[min_fitness_index] = children[child_fitness.index(max(child_fitness))]\n",
    "    \n",
    "    iteration += 1\n",
    "    \n",
    "# Print final population and fitness values\n",
    "for i in range(POPULATION_SIZE):\n",
    "    print(\"Chromosome {}: {}\".format(i+1, population[i]))\n",
    "    print(\"Fitness value: {}\".format(fitness(population[i])))\n",
    "    print()    \n"
   ]
  },
  {
   "cell_type": "code",
   "execution_count": null,
   "metadata": {},
   "outputs": [],
   "source": []
  },
  {
   "cell_type": "code",
   "execution_count": null,
   "metadata": {},
   "outputs": [],
   "source": []
  },
  {
   "cell_type": "code",
   "execution_count": null,
   "metadata": {},
   "outputs": [],
   "source": []
  },
  {
   "cell_type": "code",
   "execution_count": null,
   "metadata": {},
   "outputs": [],
   "source": []
  }
 ],
 "metadata": {
  "kernelspec": {
   "display_name": "Python 3",
   "language": "python",
   "name": "python3"
  },
  "language_info": {
   "codemirror_mode": {
    "name": "ipython",
    "version": 3
   },
   "file_extension": ".py",
   "mimetype": "text/x-python",
   "name": "python",
   "nbconvert_exporter": "python",
   "pygments_lexer": "ipython3",
   "version": "3.8.10"
  }
 },
 "nbformat": 4,
 "nbformat_minor": 5
}
