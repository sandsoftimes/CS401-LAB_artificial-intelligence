{
 "cells": [
  {
   "cell_type": "markdown",
   "id": "238fec4e",
   "metadata": {},
   "source": [
    "# ----------------------------------------------------------------------------------------------------786\n",
    "# Name: Muhammad Sherjeel Akhtar\n",
    "# Roll No: 20p-0101\n",
    "# Lab Task: Genetic Algorithm\n",
    "# Subject: Artificial Intelligence Lab\n",
    "# Section: BCS-6C\n",
    "# Submitted To Respected Ma'am: Miss Hurmat Hidayat\n",
    "# -------------------------------------------------------------------------------------------------------------"
   ]
  },
  {
   "cell_type": "markdown",
   "id": "35ad69e5",
   "metadata": {},
   "source": [
    "# Lab Task:\n",
    "# Consider the following problem and using genetic algorithm obtain"
   ]
  },
  {
   "cell_type": "markdown",
   "id": "fdc27601",
   "metadata": {},
   "source": [
    "# Importing Library"
   ]
  },
  {
   "cell_type": "code",
   "execution_count": 4,
   "id": "6755dffc",
   "metadata": {},
   "outputs": [],
   "source": [
    "import random"
   ]
  },
  {
   "cell_type": "markdown",
   "id": "adcb88a4",
   "metadata": {},
   "source": [
    "# Initial parameters"
   ]
  },
  {
   "cell_type": "code",
   "execution_count": 5,
   "id": "47a93387",
   "metadata": {},
   "outputs": [],
   "source": [
    "POPULATION_SIZE = 10\n",
    "MUTATION_RATE = 0.05\n",
    "MAX_ITERATIONS = 100"
   ]
  },
  {
   "cell_type": "markdown",
   "id": "c26ab4e5",
   "metadata": {},
   "source": [
    "# Initialize population"
   ]
  },
  {
   "cell_type": "code",
   "execution_count": 6,
   "id": "e7830144",
   "metadata": {},
   "outputs": [],
   "source": [
    "population = []\n",
    "for i in range(POPULATION_SIZE):\n",
    "    chromosome = [random.randint(0, 1) for j in range(16)]\n",
    "    population.append(chromosome)"
   ]
  },
  {
   "cell_type": "markdown",
   "id": "e246e605",
   "metadata": {},
   "source": [
    "# Fitness function"
   ]
  },
  {
   "cell_type": "code",
   "execution_count": 7,
   "id": "499d90a1",
   "metadata": {},
   "outputs": [],
   "source": [
    "def fitness(chromosome):\n",
    "    array = [chromosome[i:i+4] for i in range(0, len(chromosome), 4)]\n",
    "    return sum([sum(row) for row in array])"
   ]
  },
  {
   "cell_type": "markdown",
   "id": "8c65a27b",
   "metadata": {},
   "source": [
    "# Roulette wheel selection"
   ]
  },
  {
   "cell_type": "code",
   "execution_count": 8,
   "id": "1cbb28a9",
   "metadata": {},
   "outputs": [],
   "source": [
    "def selection(population):\n",
    "    fitness_values = [fitness(chromosome) for chromosome in population]\n",
    "    total_fitness = sum(fitness_values)\n",
    "    selection_probabilities = [fitness_value/total_fitness for fitness_value in fitness_values]\n",
    "    selected_indices = random.choices(range(len(population)), selection_probabilities, k=2)\n",
    "    return [population[selected_indices[0]], population[selected_indices[1]]]\n"
   ]
  },
  {
   "cell_type": "markdown",
   "id": "ab65b846",
   "metadata": {},
   "source": [
    "# Single-point crossover"
   ]
  },
  {
   "cell_type": "code",
   "execution_count": 9,
   "id": "b1838903",
   "metadata": {},
   "outputs": [],
   "source": [
    "def crossover(parent1, parent2):\n",
    "    crossover_point = random.randint(1, len(parent1)-1)\n",
    "    child1 = parent1[:crossover_point] + parent2[crossover_point:]\n",
    "    child2 = parent2[:crossover_point] + parent1[crossover_point:]\n",
    "    return [child1, child2]"
   ]
  },
  {
   "cell_type": "markdown",
   "id": "f8116cdd",
   "metadata": {},
   "source": [
    "# Mutation"
   ]
  },
  {
   "cell_type": "code",
   "execution_count": 10,
   "id": "f6a348a5",
   "metadata": {},
   "outputs": [],
   "source": [
    "def mutation(child):\n",
    "    for i in range(len(child)):\n",
    "        if random.random() < MUTATION_RATE:\n",
    "            child[i] = 1 - child[i]\n",
    "    return child"
   ]
  },
  {
   "cell_type": "markdown",
   "id": "24ba5434",
   "metadata": {},
   "source": [
    "# Goal test"
   ]
  },
  {
   "cell_type": "code",
   "execution_count": 11,
   "id": "f7c9483b",
   "metadata": {},
   "outputs": [],
   "source": [
    "def goal_test(chromosome):\n",
    "    array = [chromosome[i:i+4] for i in range(0, len(chromosome), 4)]\n",
    "    return all([all(row) for row in array])\n"
   ]
  },
  {
   "cell_type": "markdown",
   "id": "533e06b8",
   "metadata": {},
   "source": [
    "# Main loop"
   ]
  },
  {
   "cell_type": "code",
   "execution_count": 13,
   "id": "6027b619",
   "metadata": {},
   "outputs": [
    {
     "name": "stdout",
     "output_type": "stream",
     "text": [
      "Chromosome 1: [1, 0, 1, 0, 1, 1, 1, 0, 1, 0, 1, 0, 0, 1, 1, 1]\n",
      "Fitness value: 10\n",
      "\n",
      "Chromosome 2: [1, 0, 1, 1, 1, 1, 1, 0, 1, 1, 1, 1, 1, 0, 1, 0]\n",
      "Fitness value: 12\n",
      "\n",
      "Chromosome 3: [1, 1, 1, 1, 1, 0, 0, 1, 0, 1, 1, 1, 0, 0, 1, 1]\n",
      "Fitness value: 11\n",
      "\n",
      "Chromosome 4: [0, 0, 1, 0, 1, 1, 1, 0, 0, 0, 1, 1, 1, 0, 0, 1]\n",
      "Fitness value: 8\n",
      "\n",
      "Chromosome 5: [1, 1, 0, 1, 1, 1, 0, 0, 0, 1, 1, 0, 0, 1, 1, 1]\n",
      "Fitness value: 10\n",
      "\n",
      "Chromosome 6: [0, 0, 1, 0, 1, 1, 1, 0, 1, 1, 0, 1, 1, 0, 0, 0]\n",
      "Fitness value: 8\n",
      "\n",
      "Chromosome 7: [0, 1, 0, 0, 0, 0, 0, 1, 0, 1, 1, 1, 0, 0, 0, 0]\n",
      "Fitness value: 5\n",
      "\n",
      "Chromosome 8: [1, 0, 0, 1, 0, 1, 0, 1, 0, 0, 0, 1, 0, 1, 0, 0]\n",
      "Fitness value: 6\n",
      "\n",
      "Chromosome 9: [0, 1, 0, 1, 1, 0, 1, 1, 1, 1, 1, 0, 0, 1, 0, 1]\n",
      "Fitness value: 10\n",
      "\n",
      "Chromosome 10: [0, 1, 0, 1, 1, 1, 1, 1, 1, 1, 1, 1, 1, 0, 1, 0]\n",
      "Fitness value: 12\n",
      "\n"
     ]
    }
   ],
   "source": [
    "iteration = 0\n",
    "while iteration < MAX_ITERATIONS:\n",
    "    parents = selection(population)\n",
    "    children = crossover(parents[0], parents[1])\n",
    "    children = [mutation(child) for child in children]\n",
    "    child_fitness = [fitness(child) for child in children]\n",
    "    if any([goal_test(child) for child in children]):\n",
    "        print(\"Solution found after {} iterations.\".format(iteration))\n",
    "        break\n",
    "    min_fitness_index = child_fitness.index(min(child_fitness))\n",
    "    population[min_fitness_index] = children[child_fitness.index(max(child_fitness))]\n",
    "    iteration += 1\n",
    "    \n",
    "# Print final population and fitness values\n",
    "for i in range(POPULATION_SIZE):\n",
    "    print(\"Chromosome {}: {}\".format(i+1, population[i]))\n",
    "    print(\"Fitness value: {}\".format(fitness(population[i])))\n",
    "    print()    \n"
   ]
  },
  {
   "cell_type": "code",
   "execution_count": null,
   "id": "8a5ecffe",
   "metadata": {},
   "outputs": [],
   "source": []
  },
  {
   "cell_type": "code",
   "execution_count": null,
   "id": "36168ec8",
   "metadata": {},
   "outputs": [],
   "source": []
  }
 ],
 "metadata": {
  "kernelspec": {
   "display_name": "Python 3",
   "language": "python",
   "name": "python3"
  },
  "language_info": {
   "codemirror_mode": {
    "name": "ipython",
    "version": 3
   },
   "file_extension": ".py",
   "mimetype": "text/x-python",
   "name": "python",
   "nbconvert_exporter": "python",
   "pygments_lexer": "ipython3",
   "version": "3.8.10"
  }
 },
 "nbformat": 4,
 "nbformat_minor": 5
}
